{
 "cells": [
  {
   "cell_type": "code",
   "execution_count": 23,
   "id": "81cca085-dba2-42eb-a13b-fa64b6e86583",
   "metadata": {},
   "outputs": [
    {
     "name": "stdout",
     "output_type": "stream",
     "text": [
      "+----------+-----------+--------+---------------------+----------+--------------------------+-------------------+--------------+---------+-----------+\n",
      "|device_id |user_id    |referrer|host                 |url       |event_time                |event_date         |browser_family|os_family|device_type|\n",
      "+----------+-----------+--------+---------------------+----------+--------------------------+-------------------+--------------+---------+-----------+\n",
      "|532630305 |1037710827 |NULL    |www.zachwilson.tech  |/         |2021-03-08 17:27:24.241000|2021-03-08 00:00:00|Other         |Other    |Other      |\n",
      "|532630305 |925588856  |NULL    |www.eczachly.com     |/         |2021-05-10 11:26:21.247000|2021-05-10 00:00:00|Other         |Other    |Other      |\n",
      "|532630305 |-1180485268|NULL    |admin.zachwilson.tech|/         |2021-02-17 16:19:30.738000|2021-02-17 00:00:00|Other         |Other    |Other      |\n",
      "|532630305 |-1044833855|NULL    |www.zachwilson.tech  |/         |2021-09-24 15:53:14.466000|2021-09-24 00:00:00|Other         |Other    |Other      |\n",
      "|532630305 |747494706  |NULL    |www.zachwilson.tech  |/         |2021-09-26 16:03:17.535000|2021-09-26 00:00:00|Other         |Other    |Other      |\n",
      "|532630305 |747494706  |NULL    |admin.zachwilson.tech|/         |2021-02-21 16:08:17.975000|2021-02-21 00:00:00|Other         |Other    |Other      |\n",
      "|532630305 |-824540328 |NULL    |admin.zachwilson.tech|/         |2021-09-28 17:23:14.992000|2021-09-28 00:00:00|Other         |Other    |Other      |\n",
      "|532630305 |-824540328 |NULL    |www.eczachly.com     |/         |2021-09-29 01:22:13.197000|2021-09-29 00:00:00|Other         |Other    |Other      |\n",
      "|532630305 |1833036683 |NULL    |admin.zachwilson.tech|/         |2021-01-24 03:15:18.583000|2021-01-24 00:00:00|Other         |Other    |Other      |\n",
      "|532630305 |-2134824313|NULL    |www.eczachly.com     |/         |2021-01-25 00:03:00.624000|2021-01-25 00:00:00|Other         |Other    |Other      |\n",
      "|-906264142|-1809929467|NULL    |admin.zachwilson.tech|/.git/HEAD|2021-02-22 01:36:52.420000|2021-02-22 00:00:00|curl          |Other    |Other      |\n",
      "|-906264142|2002285749 |NULL    |www.eczachly.com     |/         |2021-02-22 02:25:41.865000|2021-02-22 00:00:00|curl          |Other    |Other      |\n",
      "|532630305 |-1562965412|NULL    |www.zachwilson.tech  |/         |2021-01-30 20:46:03.961000|2021-01-30 00:00:00|Other         |Other    |Other      |\n",
      "|532630305 |-1099860451|NULL    |www.eczachly.com     |/         |2021-02-04 23:49:18.722000|2021-02-04 00:00:00|Other         |Other    |Other      |\n",
      "|-906264142|1246896869 |NULL    |www.zachwilson.tech  |/         |2021-02-22 02:50:50.883000|2021-02-22 00:00:00|curl          |Other    |Other      |\n",
      "|-906264142|-629331502 |NULL    |admin.zachwilson.tech|/.git/HEAD|2021-02-22 23:51:44.585000|2021-02-22 00:00:00|curl          |Other    |Other      |\n",
      "|-906264142|-1913422462|NULL    |www.eczachly.com     |/         |2021-02-23 00:17:18.221000|2021-02-23 00:00:00|curl          |Other    |Other      |\n",
      "|532630305 |50429624   |NULL    |www.eczachly.com     |/         |2022-12-28 01:38:38.653000|2022-12-28 00:00:00|Other         |Other    |Other      |\n",
      "|532630305 |222389292  |NULL    |www.zachwilson.tech  |/         |2022-12-28 05:23:21.107000|2022-12-28 00:00:00|Other         |Other    |Other      |\n",
      "|532630305 |-779924777 |NULL    |www.zachwilson.tech  |/         |2022-12-28 16:45:14.820000|2022-12-28 00:00:00|Other         |Other    |Other      |\n",
      "+----------+-----------+--------+---------------------+----------+--------------------------+-------------------+--------------+---------+-----------+\n",
      "only showing top 20 rows\n",
      "\n"
     ]
    }
   ],
   "source": [
    "from pyspark.sql import SparkSession\n",
    "from pyspark.sql.functions import expr, col\n",
    "spark = SparkSession.builder.appName(\"Jupyter\").getOrCreate()\n",
    "\n",
    "spark\n",
    "\n",
    "events = spark.read.option(\"header\", \"true\").csv(\"/home/iceberg/data/events.csv\").withColumn(\"event_date\", expr(\"DATE_TRUNC('day', event_time)\"))\n",
    "devices = spark.read.option(\"header\",\"true\").csv(\"/home/iceberg/data/devices.csv\")\n",
    "\n",
    "df = events.join(devices,on=\"device_id\",how=\"left\")\n",
    "df = df.withColumnsRenamed({'browser_type': 'browser_family', 'os_type': 'os_family'})\n",
    "\n",
    "df.show(20,False)"
   ]
  },
  {
   "cell_type": "code",
   "execution_count": 5,
   "id": "dce068df-3e21-429a-8716-abdd13e9406c",
   "metadata": {},
   "outputs": [
    {
     "name": "stdout",
     "output_type": "stream",
     "text": [
      "== Physical Plan ==\n",
      "AdaptiveSparkPlan isFinalPlan=false\n",
      "+- Project [device_id#292, user_id#291, referrer#293, host#294, url#295, cast(event_time#296 as timestamp) AS event_time#535, event_date#303, browser_family#348, os_family#349, device_type#332]\n",
      "   +- Sort [event_date#303 ASC NULLS FIRST, host#294 ASC NULLS FIRST], false, 0\n",
      "      +- Exchange hashpartitioning(event_date#303, 10), REPARTITION_BY_NUM, [plan_id=640]\n",
      "         +- Project [device_id#292, user_id#291, referrer#293, host#294, url#295, event_time#296, event_date#303, browser_type#330 AS browser_family#348, os_type#331 AS os_family#349, device_type#332]\n",
      "            +- BroadcastHashJoin [device_id#292], [device_id#329], LeftOuter, BuildRight, false\n",
      "               :- Project [user_id#291, device_id#292, referrer#293, host#294, url#295, event_time#296, date_trunc(day, cast(event_time#296 as timestamp), Some(Etc/UTC)) AS event_date#303]\n",
      "               :  +- FileScan csv [user_id#291,device_id#292,referrer#293,host#294,url#295,event_time#296] Batched: false, DataFilters: [], Format: CSV, Location: InMemoryFileIndex(1 paths)[file:/home/iceberg/data/events.csv], PartitionFilters: [], PushedFilters: [], ReadSchema: struct<user_id:string,device_id:string,referrer:string,host:string,url:string,event_time:string>\n",
      "               +- BroadcastExchange HashedRelationBroadcastMode(List(input[0, string, false]),false), [plan_id=637]\n",
      "                  +- Filter isnotnull(device_id#329)\n",
      "                     +- FileScan csv [device_id#329,browser_type#330,os_type#331,device_type#332] Batched: false, DataFilters: [isnotnull(device_id#329)], Format: CSV, Location: InMemoryFileIndex(1 paths)[file:/home/iceberg/data/devices.csv], PartitionFilters: [], PushedFilters: [IsNotNull(device_id)], ReadSchema: struct<device_id:string,browser_type:string,os_type:string,device_type:string>\n",
      "\n",
      "\n",
      "== Physical Plan ==\n",
      "AdaptiveSparkPlan isFinalPlan=false\n",
      "+- Project [device_id#292, user_id#291, referrer#293, host#294, url#295, cast(event_time#296 as timestamp) AS event_time#546, event_date#303, browser_family#348, os_family#349, device_type#332]\n",
      "   +- Sort [event_date#303 ASC NULLS FIRST, host#294 ASC NULLS FIRST], true, 0\n",
      "      +- Exchange rangepartitioning(event_date#303 ASC NULLS FIRST, host#294 ASC NULLS FIRST, 200), ENSURE_REQUIREMENTS, [plan_id=687]\n",
      "         +- Exchange hashpartitioning(event_date#303, 10), REPARTITION_BY_NUM, [plan_id=685]\n",
      "            +- Project [device_id#292, user_id#291, referrer#293, host#294, url#295, event_time#296, event_date#303, browser_type#330 AS browser_family#348, os_type#331 AS os_family#349, device_type#332]\n",
      "               +- BroadcastHashJoin [device_id#292], [device_id#329], LeftOuter, BuildRight, false\n",
      "                  :- Project [user_id#291, device_id#292, referrer#293, host#294, url#295, event_time#296, date_trunc(day, cast(event_time#296 as timestamp), Some(Etc/UTC)) AS event_date#303]\n",
      "                  :  +- FileScan csv [user_id#291,device_id#292,referrer#293,host#294,url#295,event_time#296] Batched: false, DataFilters: [], Format: CSV, Location: InMemoryFileIndex(1 paths)[file:/home/iceberg/data/events.csv], PartitionFilters: [], PushedFilters: [], ReadSchema: struct<user_id:string,device_id:string,referrer:string,host:string,url:string,event_time:string>\n",
      "                  +- BroadcastExchange HashedRelationBroadcastMode(List(input[0, string, false]),false), [plan_id=682]\n",
      "                     +- Filter isnotnull(device_id#329)\n",
      "                        +- FileScan csv [device_id#329,browser_type#330,os_type#331,device_type#332] Batched: false, DataFilters: [isnotnull(device_id#329)], Format: CSV, Location: InMemoryFileIndex(1 paths)[file:/home/iceberg/data/devices.csv], PartitionFilters: [], PushedFilters: [IsNotNull(device_id)], ReadSchema: struct<device_id:string,browser_type:string,os_type:string,device_type:string>\n",
      "\n",
      "\n"
     ]
    }
   ],
   "source": [
    "sorted = df.repartition(10, col(\"event_date\"))\\\n",
    "    .sortWithinPartitions(col(\"event_date\"), col(\"host\"))\\\n",
    "    .withColumn(\"event_time\", col(\"event_time\").cast(\"timestamp\")) \n",
    "\n",
    "sortedTwo = df.repartition(10, col(\"event_date\"))\\\n",
    "    .sort(col(\"event_date\"), col(\"host\"))\\\n",
    "    .withColumn(\"event_time\", col(\"event_time\").cast(\"timestamp\")) \n",
    "\n",
    "sorted.explain()#.show()\n",
    "sortedTwo.explain()#.show()\n"
   ]
  },
  {
   "cell_type": "code",
   "execution_count": null,
   "id": "e75099ce-0e80-4903-8d3e-e4842a9a99f7",
   "metadata": {},
   "outputs": [],
   "source": [
    "# .sortWithinPartitions() sorts within partitions, whereas .sort() is a global sort, which is very slow\n",
    "\n",
    "# Note - exchange is synonymous with Shuffle"
   ]
  },
  {
   "cell_type": "code",
   "execution_count": 6,
   "id": "5cc0bb63-2ef0-4a53-af25-881fbd785d55",
   "metadata": {},
   "outputs": [
    {
     "name": "stdout",
     "output_type": "stream",
     "text": [
      "== Physical Plan ==\n",
      "AdaptiveSparkPlan isFinalPlan=false\n",
      "+- Project [user_id#17, device_id#18, referrer#19, host#20, url#21, cast(event_time#22 as timestamp) AS event_time#288, event_date#29]\n",
      "   +- Sort [event_date#29 ASC NULLS FIRST, host#20 ASC NULLS FIRST], false, 0\n",
      "      +- Exchange hashpartitioning(event_date#29, 10), REPARTITION_BY_NUM, [plan_id=294]\n",
      "         +- Project [user_id#17, device_id#18, referrer#19, host#20, url#21, event_time#22, date_trunc(day, cast(event_time#22 as timestamp), Some(Etc/UTC)) AS event_date#29]\n",
      "            +- FileScan csv [user_id#17,device_id#18,referrer#19,host#20,url#21,event_time#22] Batched: false, DataFilters: [], Format: CSV, Location: InMemoryFileIndex(1 paths)[file:/home/iceberg/data/events.csv], PartitionFilters: [], PushedFilters: [], ReadSchema: struct<user_id:string,device_id:string,referrer:string,host:string,url:string,event_time:string>\n",
      "\n",
      "\n",
      "== Physical Plan ==\n",
      "AdaptiveSparkPlan isFinalPlan=false\n",
      "+- Project [user_id#17, device_id#18, referrer#19, host#20, url#21, cast(event_time#22 as timestamp) AS event_time#296, event_date#29]\n",
      "   +- Sort [event_date#29 ASC NULLS FIRST, host#20 ASC NULLS FIRST], true, 0\n",
      "      +- Exchange rangepartitioning(event_date#29 ASC NULLS FIRST, host#20 ASC NULLS FIRST, 200), ENSURE_REQUIREMENTS, [plan_id=316]\n",
      "         +- Exchange hashpartitioning(event_date#29, 10), REPARTITION_BY_NUM, [plan_id=312]\n",
      "            +- Project [user_id#17, device_id#18, referrer#19, host#20, url#21, event_time#22, date_trunc(day, cast(event_time#22 as timestamp), Some(Etc/UTC)) AS event_date#29]\n",
      "               +- FileScan csv [user_id#17,device_id#18,referrer#19,host#20,url#21,event_time#22] Batched: false, DataFilters: [], Format: CSV, Location: InMemoryFileIndex(1 paths)[file:/home/iceberg/data/events.csv], PartitionFilters: [], PushedFilters: [], ReadSchema: struct<user_id:string,device_id:string,referrer:string,host:string,url:string,event_time:string>\n",
      "\n",
      "\n"
     ]
    }
   ],
   "source": [
    "sorted = df.repartition(10, col(\"event_date\"))\\\n",
    "    .sortWithinPartitions(col(\"event_date\"), col(\"host\"))\\\n",
    "    .withColumn(\"event_time\", col(\"event_time\").cast(\"timestamp\")) \n",
    "\n",
    "sortedTwo = df.repartition(10, col(\"event_date\"))\\\n",
    "    .sort(col(\"event_date\"), col(\"host\"))\\\n",
    "    .withColumn(\"event_time\", col(\"event_time\").cast(\"timestamp\")) \n",
    "\n",
    "sorted.explain()\n",
    "sortedTwo.explain()"
   ]
  },
  {
   "cell_type": "code",
   "execution_count": 7,
   "id": "d800dca7-2737-4192-b5c0-c1806c105e15",
   "metadata": {},
   "outputs": [
    {
     "data": {
      "text/html": [
       "<table>\n",
       "    <thead>\n",
       "        <tr>\n",
       "        </tr>\n",
       "    </thead>\n",
       "    <tbody>\n",
       "    </tbody>\n",
       "</table>"
      ],
      "text/plain": [
       "++\n",
       "||\n",
       "++\n",
       "++"
      ]
     },
     "execution_count": 7,
     "metadata": {},
     "output_type": "execute_result"
    }
   ],
   "source": [
    "%%sql\n",
    "\n",
    "CREATE DATABASE IF NOT EXISTS bootcamp"
   ]
  },
  {
   "cell_type": "code",
   "execution_count": 8,
   "id": "e83cd813-d5c0-4d67-8285-849b882b8bfa",
   "metadata": {},
   "outputs": [
    {
     "data": {
      "text/html": [
       "<table>\n",
       "    <thead>\n",
       "        <tr>\n",
       "        </tr>\n",
       "    </thead>\n",
       "    <tbody>\n",
       "    </tbody>\n",
       "</table>"
      ],
      "text/plain": [
       "++\n",
       "||\n",
       "++\n",
       "++"
      ]
     },
     "execution_count": 8,
     "metadata": {},
     "output_type": "execute_result"
    }
   ],
   "source": [
    "%%sql\n",
    "\n",
    "DROP TABLE IF EXISTS bootcamp.events"
   ]
  },
  {
   "cell_type": "code",
   "execution_count": 9,
   "id": "b403139c-f342-426a-a6de-81cd86d1cd73",
   "metadata": {},
   "outputs": [
    {
     "data": {
      "text/html": [
       "<table>\n",
       "    <thead>\n",
       "        <tr>\n",
       "        </tr>\n",
       "    </thead>\n",
       "    <tbody>\n",
       "    </tbody>\n",
       "</table>"
      ],
      "text/plain": [
       "++\n",
       "||\n",
       "++\n",
       "++"
      ]
     },
     "execution_count": 9,
     "metadata": {},
     "output_type": "execute_result"
    }
   ],
   "source": [
    "%%sql\n",
    "\n",
    "DROP TABLE IF EXISTS bootcamp.events_sorted"
   ]
  },
  {
   "cell_type": "code",
   "execution_count": 10,
   "id": "d1b197a9-1b63-4130-acbe-01418eede0e5",
   "metadata": {
    "scrolled": true
   },
   "outputs": [
    {
     "data": {
      "text/html": [
       "<table>\n",
       "    <thead>\n",
       "        <tr>\n",
       "        </tr>\n",
       "    </thead>\n",
       "    <tbody>\n",
       "    </tbody>\n",
       "</table>"
      ],
      "text/plain": [
       "++\n",
       "||\n",
       "++\n",
       "++"
      ]
     },
     "execution_count": 10,
     "metadata": {},
     "output_type": "execute_result"
    }
   ],
   "source": [
    "%%sql\n",
    "\n",
    "CREATE TABLE IF NOT EXISTS bootcamp.events (\n",
    "    url STRING,\n",
    "    referrer STRING,\n",
    "    browser_family STRING,\n",
    "    os_family STRING,\n",
    "    device_family STRING,\n",
    "    host STRING,\n",
    "    event_time TIMESTAMP,\n",
    "    event_date DATE\n",
    ")\n",
    "USING iceberg\n",
    "PARTITIONED BY (years(event_date));\n"
   ]
  },
  {
   "cell_type": "code",
   "execution_count": 11,
   "id": "c40b143f-295e-4875-bd7f-12409312b800",
   "metadata": {
    "scrolled": true
   },
   "outputs": [
    {
     "data": {
      "text/html": [
       "<table>\n",
       "    <thead>\n",
       "        <tr>\n",
       "        </tr>\n",
       "    </thead>\n",
       "    <tbody>\n",
       "    </tbody>\n",
       "</table>"
      ],
      "text/plain": [
       "++\n",
       "||\n",
       "++\n",
       "++"
      ]
     },
     "execution_count": 11,
     "metadata": {},
     "output_type": "execute_result"
    }
   ],
   "source": [
    "%%sql\n",
    "\n",
    "\n",
    "CREATE TABLE IF NOT EXISTS bootcamp.events_sorted (\n",
    "    url STRING,\n",
    "    referrer STRING,\n",
    "    browser_family STRING,\n",
    "    os_family STRING,\n",
    "    device_family STRING,\n",
    "    host STRING,\n",
    "    event_time TIMESTAMP,\n",
    "    event_date DATE\n",
    ")\n",
    "USING iceberg\n",
    "PARTITIONED BY (years(event_date));"
   ]
  },
  {
   "cell_type": "code",
   "execution_count": 12,
   "id": "00c86e79-a911-464c-ad58-acc92859dcc6",
   "metadata": {
    "scrolled": true
   },
   "outputs": [
    {
     "data": {
      "text/html": [
       "<table>\n",
       "    <thead>\n",
       "        <tr>\n",
       "        </tr>\n",
       "    </thead>\n",
       "    <tbody>\n",
       "    </tbody>\n",
       "</table>"
      ],
      "text/plain": [
       "++\n",
       "||\n",
       "++\n",
       "++"
      ]
     },
     "execution_count": 12,
     "metadata": {},
     "output_type": "execute_result"
    }
   ],
   "source": [
    "%%sql\n",
    "\n",
    "\n",
    "CREATE TABLE IF NOT EXISTS bootcamp.events_unsorted (\n",
    "    url STRING,\n",
    "    referrer STRING,\n",
    "    browser_family STRING,\n",
    "    os_family STRING,\n",
    "    device_family STRING,\n",
    "    host STRING,\n",
    "    event_time TIMESTAMP,\n",
    "    event_date DATE\n",
    ")\n",
    "USING iceberg\n",
    "PARTITIONED BY (year(event_date));"
   ]
  },
  {
   "cell_type": "code",
   "execution_count": 13,
   "id": "2c1254bc-9ecf-4c86-bfd9-de81ecfbb78b",
   "metadata": {},
   "outputs": [
    {
     "name": "stderr",
     "output_type": "stream",
     "text": [
      "                                                                                \r"
     ]
    }
   ],
   "source": [
    "\n",
    "start_df = df.repartition(4, col(\"event_date\")).withColumn(\"event_time\", col(\"event_time\").cast(\"timestamp\")) \\\n",
    "    \n",
    "first_sort_df = start_df.sortWithinPartitions(col(\"event_date\"), col(\"host\"))\n",
    "\n",
    "start_df.write.mode(\"overwrite\").saveAsTable(\"bootcamp.events_unsorted\")\n",
    "first_sort_df.write.mode(\"overwrite\").saveAsTable(\"bootcamp.events_sorted\")"
   ]
  },
  {
   "cell_type": "code",
   "execution_count": 14,
   "id": "d207a11b-b0a4-4662-bbe9-747d8f67be7d",
   "metadata": {},
   "outputs": [
    {
     "data": {
      "text/html": [
       "<table>\n",
       "    <thead>\n",
       "        <tr>\n",
       "            <th>size</th>\n",
       "            <th>num_files</th>\n",
       "            <th>sorted</th>\n",
       "        </tr>\n",
       "    </thead>\n",
       "    <tbody>\n",
       "        <tr>\n",
       "            <td>5441299</td>\n",
       "            <td>4</td>\n",
       "            <td>sorted</td>\n",
       "        </tr>\n",
       "        <tr>\n",
       "            <td>5553010</td>\n",
       "            <td>4</td>\n",
       "            <td>unsorted</td>\n",
       "        </tr>\n",
       "    </tbody>\n",
       "</table>"
      ],
      "text/plain": [
       "+---------+-----------+----------+\n",
       "|    size | num_files |   sorted |\n",
       "+---------+-----------+----------+\n",
       "| 5441299 |         4 |   sorted |\n",
       "| 5553010 |         4 | unsorted |\n",
       "+---------+-----------+----------+"
      ]
     },
     "execution_count": 14,
     "metadata": {},
     "output_type": "execute_result"
    }
   ],
   "source": [
    "%%sql\n",
    "\n",
    "SELECT SUM(file_size_in_bytes) as size, COUNT(1) as num_files, 'sorted' \n",
    "FROM demo.bootcamp.events_sorted.files\n",
    "\n",
    "UNION ALL\n",
    "SELECT SUM(file_size_in_bytes) as size, COUNT(1) as num_files, 'unsorted' \n",
    "FROM demo.bootcamp.events_unsorted.files\n",
    "\n",
    "\n",
    "\n"
   ]
  },
  {
   "cell_type": "code",
   "execution_count": 15,
   "id": "a93db4d6-ac15-4d0e-83da-77b93ad618da",
   "metadata": {},
   "outputs": [
    {
     "data": {
      "text/html": [
       "<table>\n",
       "    <thead>\n",
       "        <tr>\n",
       "            <th>size</th>\n",
       "            <th>num_files</th>\n",
       "        </tr>\n",
       "    </thead>\n",
       "    <tbody>\n",
       "        <tr>\n",
       "            <td>None</td>\n",
       "            <td>0</td>\n",
       "        </tr>\n",
       "    </tbody>\n",
       "</table>"
      ],
      "text/plain": [
       "+------+-----------+\n",
       "| size | num_files |\n",
       "+------+-----------+\n",
       "| None |         0 |\n",
       "+------+-----------+"
      ]
     },
     "execution_count": 15,
     "metadata": {},
     "output_type": "execute_result"
    }
   ],
   "source": [
    "%%sql\n",
    "SELECT SUM(file_size_in_bytes) as size, COUNT(1) as num_files FROM demo.bootcamp.events.files;"
   ]
  },
  {
   "cell_type": "code",
   "execution_count": 16,
   "id": "a11ded97",
   "metadata": {
    "collapsed": false,
    "jupyter": {
     "outputs_hidden": false
    },
    "pycharm": {
     "name": "#%%\n"
    }
   },
   "outputs": [
    {
     "ename": "AnalysisException",
     "evalue": "[TABLE_OR_VIEW_NOT_FOUND] The table or view `bootcamp`.`matches_bucketed`.`files` cannot be found. Verify the spelling and correctness of the schema and catalog.\nIf you did not qualify the name with a schema, verify the current_schema() output, or qualify the name with the correct schema and catalog.\nTo tolerate the error on drop use DROP VIEW IF EXISTS or DROP TABLE IF EXISTS.; line 1 pos 21;\n'Aggregate [unresolvedalias(count(1), None)]\n+- 'UnresolvedRelation [bootcamp, matches_bucketed, files], [], false\n",
     "output_type": "error",
     "traceback": [
      "\u001b[0;31m---------------------------------------------------------------------------\u001b[0m",
      "\u001b[0;31mAnalysisException\u001b[0m                         Traceback (most recent call last)",
      "Cell \u001b[0;32mIn[16], line 1\u001b[0m\n\u001b[0;32m----> 1\u001b[0m \u001b[43mget_ipython\u001b[49m\u001b[43m(\u001b[49m\u001b[43m)\u001b[49m\u001b[38;5;241;43m.\u001b[39;49m\u001b[43mrun_cell_magic\u001b[49m\u001b[43m(\u001b[49m\u001b[38;5;124;43m'\u001b[39;49m\u001b[38;5;124;43msql\u001b[39;49m\u001b[38;5;124;43m'\u001b[39;49m\u001b[43m,\u001b[49m\u001b[43m \u001b[49m\u001b[38;5;124;43m'\u001b[39;49m\u001b[38;5;124;43m'\u001b[39;49m\u001b[43m,\u001b[49m\u001b[43m \u001b[49m\u001b[38;5;124;43m'\u001b[39;49m\u001b[38;5;124;43mSELECT COUNT(1) FROM bootcamp.matches_bucketed.files\u001b[39;49m\u001b[38;5;130;43;01m\\n\u001b[39;49;00m\u001b[38;5;124;43m'\u001b[39;49m\u001b[43m)\u001b[49m\n",
      "File \u001b[0;32m/usr/local/lib/python3.9/site-packages/IPython/core/interactiveshell.py:2517\u001b[0m, in \u001b[0;36mInteractiveShell.run_cell_magic\u001b[0;34m(self, magic_name, line, cell)\u001b[0m\n\u001b[1;32m   2515\u001b[0m \u001b[38;5;28;01mwith\u001b[39;00m \u001b[38;5;28mself\u001b[39m\u001b[38;5;241m.\u001b[39mbuiltin_trap:\n\u001b[1;32m   2516\u001b[0m     args \u001b[38;5;241m=\u001b[39m (magic_arg_s, cell)\n\u001b[0;32m-> 2517\u001b[0m     result \u001b[38;5;241m=\u001b[39m \u001b[43mfn\u001b[49m\u001b[43m(\u001b[49m\u001b[38;5;241;43m*\u001b[39;49m\u001b[43margs\u001b[49m\u001b[43m,\u001b[49m\u001b[43m \u001b[49m\u001b[38;5;241;43m*\u001b[39;49m\u001b[38;5;241;43m*\u001b[39;49m\u001b[43mkwargs\u001b[49m\u001b[43m)\u001b[49m\n\u001b[1;32m   2519\u001b[0m \u001b[38;5;66;03m# The code below prevents the output from being displayed\u001b[39;00m\n\u001b[1;32m   2520\u001b[0m \u001b[38;5;66;03m# when using magics with decorator @output_can_be_silenced\u001b[39;00m\n\u001b[1;32m   2521\u001b[0m \u001b[38;5;66;03m# when the last Python token in the expression is a ';'.\u001b[39;00m\n\u001b[1;32m   2522\u001b[0m \u001b[38;5;28;01mif\u001b[39;00m \u001b[38;5;28mgetattr\u001b[39m(fn, magic\u001b[38;5;241m.\u001b[39mMAGIC_OUTPUT_CAN_BE_SILENCED, \u001b[38;5;28;01mFalse\u001b[39;00m):\n",
      "File \u001b[0;32m~/.ipython/profile_default/startup/00-prettytables.py:81\u001b[0m, in \u001b[0;36msql\u001b[0;34m(line, cell)\u001b[0m\n\u001b[1;32m     79\u001b[0m         \u001b[38;5;28;01mreturn\u001b[39;00m _to_table(df, num_rows\u001b[38;5;241m=\u001b[39margs\u001b[38;5;241m.\u001b[39mlimit)\n\u001b[1;32m     80\u001b[0m \u001b[38;5;28;01melse\u001b[39;00m:\n\u001b[0;32m---> 81\u001b[0m     \u001b[38;5;28;01mreturn\u001b[39;00m _to_table(\u001b[43mspark\u001b[49m\u001b[38;5;241;43m.\u001b[39;49m\u001b[43msql\u001b[49m\u001b[43m(\u001b[49m\u001b[43mcell\u001b[49m\u001b[43m)\u001b[49m)\n",
      "File \u001b[0;32m/opt/spark/python/pyspark/sql/session.py:1631\u001b[0m, in \u001b[0;36mSparkSession.sql\u001b[0;34m(self, sqlQuery, args, **kwargs)\u001b[0m\n\u001b[1;32m   1627\u001b[0m         \u001b[38;5;28;01massert\u001b[39;00m \u001b[38;5;28mself\u001b[39m\u001b[38;5;241m.\u001b[39m_jvm \u001b[38;5;129;01mis\u001b[39;00m \u001b[38;5;129;01mnot\u001b[39;00m \u001b[38;5;28;01mNone\u001b[39;00m\n\u001b[1;32m   1628\u001b[0m         litArgs \u001b[38;5;241m=\u001b[39m \u001b[38;5;28mself\u001b[39m\u001b[38;5;241m.\u001b[39m_jvm\u001b[38;5;241m.\u001b[39mPythonUtils\u001b[38;5;241m.\u001b[39mtoArray(\n\u001b[1;32m   1629\u001b[0m             [_to_java_column(lit(v)) \u001b[38;5;28;01mfor\u001b[39;00m v \u001b[38;5;129;01min\u001b[39;00m (args \u001b[38;5;129;01mor\u001b[39;00m [])]\n\u001b[1;32m   1630\u001b[0m         )\n\u001b[0;32m-> 1631\u001b[0m     \u001b[38;5;28;01mreturn\u001b[39;00m DataFrame(\u001b[38;5;28;43mself\u001b[39;49m\u001b[38;5;241;43m.\u001b[39;49m\u001b[43m_jsparkSession\u001b[49m\u001b[38;5;241;43m.\u001b[39;49m\u001b[43msql\u001b[49m\u001b[43m(\u001b[49m\u001b[43msqlQuery\u001b[49m\u001b[43m,\u001b[49m\u001b[43m \u001b[49m\u001b[43mlitArgs\u001b[49m\u001b[43m)\u001b[49m, \u001b[38;5;28mself\u001b[39m)\n\u001b[1;32m   1632\u001b[0m \u001b[38;5;28;01mfinally\u001b[39;00m:\n\u001b[1;32m   1633\u001b[0m     \u001b[38;5;28;01mif\u001b[39;00m \u001b[38;5;28mlen\u001b[39m(kwargs) \u001b[38;5;241m>\u001b[39m \u001b[38;5;241m0\u001b[39m:\n",
      "File \u001b[0;32m/opt/spark/python/lib/py4j-0.10.9.7-src.zip/py4j/java_gateway.py:1322\u001b[0m, in \u001b[0;36mJavaMember.__call__\u001b[0;34m(self, *args)\u001b[0m\n\u001b[1;32m   1316\u001b[0m command \u001b[38;5;241m=\u001b[39m proto\u001b[38;5;241m.\u001b[39mCALL_COMMAND_NAME \u001b[38;5;241m+\u001b[39m\\\n\u001b[1;32m   1317\u001b[0m     \u001b[38;5;28mself\u001b[39m\u001b[38;5;241m.\u001b[39mcommand_header \u001b[38;5;241m+\u001b[39m\\\n\u001b[1;32m   1318\u001b[0m     args_command \u001b[38;5;241m+\u001b[39m\\\n\u001b[1;32m   1319\u001b[0m     proto\u001b[38;5;241m.\u001b[39mEND_COMMAND_PART\n\u001b[1;32m   1321\u001b[0m answer \u001b[38;5;241m=\u001b[39m \u001b[38;5;28mself\u001b[39m\u001b[38;5;241m.\u001b[39mgateway_client\u001b[38;5;241m.\u001b[39msend_command(command)\n\u001b[0;32m-> 1322\u001b[0m return_value \u001b[38;5;241m=\u001b[39m \u001b[43mget_return_value\u001b[49m\u001b[43m(\u001b[49m\n\u001b[1;32m   1323\u001b[0m \u001b[43m    \u001b[49m\u001b[43manswer\u001b[49m\u001b[43m,\u001b[49m\u001b[43m \u001b[49m\u001b[38;5;28;43mself\u001b[39;49m\u001b[38;5;241;43m.\u001b[39;49m\u001b[43mgateway_client\u001b[49m\u001b[43m,\u001b[49m\u001b[43m \u001b[49m\u001b[38;5;28;43mself\u001b[39;49m\u001b[38;5;241;43m.\u001b[39;49m\u001b[43mtarget_id\u001b[49m\u001b[43m,\u001b[49m\u001b[43m \u001b[49m\u001b[38;5;28;43mself\u001b[39;49m\u001b[38;5;241;43m.\u001b[39;49m\u001b[43mname\u001b[49m\u001b[43m)\u001b[49m\n\u001b[1;32m   1325\u001b[0m \u001b[38;5;28;01mfor\u001b[39;00m temp_arg \u001b[38;5;129;01min\u001b[39;00m temp_args:\n\u001b[1;32m   1326\u001b[0m     \u001b[38;5;28;01mif\u001b[39;00m \u001b[38;5;28mhasattr\u001b[39m(temp_arg, \u001b[38;5;124m\"\u001b[39m\u001b[38;5;124m_detach\u001b[39m\u001b[38;5;124m\"\u001b[39m):\n",
      "File \u001b[0;32m/opt/spark/python/pyspark/errors/exceptions/captured.py:185\u001b[0m, in \u001b[0;36mcapture_sql_exception.<locals>.deco\u001b[0;34m(*a, **kw)\u001b[0m\n\u001b[1;32m    181\u001b[0m converted \u001b[38;5;241m=\u001b[39m convert_exception(e\u001b[38;5;241m.\u001b[39mjava_exception)\n\u001b[1;32m    182\u001b[0m \u001b[38;5;28;01mif\u001b[39;00m \u001b[38;5;129;01mnot\u001b[39;00m \u001b[38;5;28misinstance\u001b[39m(converted, UnknownException):\n\u001b[1;32m    183\u001b[0m     \u001b[38;5;66;03m# Hide where the exception came from that shows a non-Pythonic\u001b[39;00m\n\u001b[1;32m    184\u001b[0m     \u001b[38;5;66;03m# JVM exception message.\u001b[39;00m\n\u001b[0;32m--> 185\u001b[0m     \u001b[38;5;28;01mraise\u001b[39;00m converted \u001b[38;5;28;01mfrom\u001b[39;00m \u001b[38;5;28;01mNone\u001b[39;00m\n\u001b[1;32m    186\u001b[0m \u001b[38;5;28;01melse\u001b[39;00m:\n\u001b[1;32m    187\u001b[0m     \u001b[38;5;28;01mraise\u001b[39;00m\n",
      "\u001b[0;31mAnalysisException\u001b[0m: [TABLE_OR_VIEW_NOT_FOUND] The table or view `bootcamp`.`matches_bucketed`.`files` cannot be found. Verify the spelling and correctness of the schema and catalog.\nIf you did not qualify the name with a schema, verify the current_schema() output, or qualify the name with the correct schema and catalog.\nTo tolerate the error on drop use DROP VIEW IF EXISTS or DROP TABLE IF EXISTS.; line 1 pos 21;\n'Aggregate [unresolvedalias(count(1), None)]\n+- 'UnresolvedRelation [bootcamp, matches_bucketed, files], [], false\n"
     ]
    }
   ],
   "source": [
    "%%sql \n",
    "SELECT COUNT(1) FROM bootcamp.matches_bucketed.files"
   ]
  },
  {
   "cell_type": "code",
   "execution_count": 20,
   "id": "674f173d-86ca-4637-9332-37ce04a81451",
   "metadata": {},
   "outputs": [
    {
     "name": "stderr",
     "output_type": "stream",
     "text": [
      "                                                                                \r"
     ]
    },
    {
     "data": {
      "text/html": [
       "<table>\n",
       "    <thead>\n",
       "        <tr>\n",
       "            <th>content</th>\n",
       "            <th>file_path</th>\n",
       "            <th>file_format</th>\n",
       "            <th>spec_id</th>\n",
       "            <th>partition</th>\n",
       "            <th>record_count</th>\n",
       "            <th>file_size_in_bytes</th>\n",
       "            <th>column_sizes</th>\n",
       "            <th>value_counts</th>\n",
       "            <th>null_value_counts</th>\n",
       "            <th>nan_value_counts</th>\n",
       "            <th>lower_bounds</th>\n",
       "            <th>upper_bounds</th>\n",
       "            <th>key_metadata</th>\n",
       "            <th>split_offsets</th>\n",
       "            <th>equality_ids</th>\n",
       "            <th>sort_order_id</th>\n",
       "            <th>readable_metrics</th>\n",
       "        </tr>\n",
       "    </thead>\n",
       "    <tbody>\n",
       "        <tr>\n",
       "            <td>0</td>\n",
       "            <td>s3://warehouse/bootcamp/events_sorted/data/00000-71-bb6b0eaa-2ea0-43ef-919a-09182b9e4425-0-00001.parquet</td>\n",
       "            <td>PARQUET</td>\n",
       "            <td>1</td>\n",
       "            <td>Row(event_date_year=None)</td>\n",
       "            <td>89391</td>\n",
       "            <td>1103888</td>\n",
       "            <td>{1: 111517, 2: 68766, 3: 48243, 4: 25723, 6: 2674, 7: 390792, 8: 2274, 9: 103859, 10: 315033, 11: 30583}</td>\n",
       "            <td>{1: 89391, 2: 89391, 3: 89391, 4: 89391, 6: 89391, 7: 89391, 8: 89391, 9: 89391, 10: 89391, 11: 89391}</td>\n",
       "            <td>{1: 0, 2: 46359, 3: 0, 4: 0, 6: 0, 7: 0, 8: 0, 9: 0, 10: 1, 11: 0}</td>\n",
       "            <td>{}</td>\n",
       "            <td>{1: bytearray(b&#x27;/&#x27;), 2: bytearray(b&#x27;52.20.78.240&#x27;), 3: bytearray(b&#x27;%E3%82%A6%E3%82%&#x27;), 4: bytearray(b&#x27;Android&#x27;), 6: bytearray(b&#x27;aashish.techcrea&#x27;), 7: bytearray(b&#x27; \\xba\\xe7\\xb8\\xa8\\xb8\\x05\\x00&#x27;), 8: bytearray(b&#x27;\\x00\\xa0&amp;\\xb4\\xa8\\xb8\\x05\\x00&#x27;), 9: bytearray(b&#x27;-100210680&#x27;), 10: bytearray(b&#x27;-1000095488&#x27;), 11: bytearray(b&#x27;17MB150WB&#x27;)}</td>\n",
       "            <td>{1: bytearray(b&#x27;/zzageqnf.php?Fp&#x27;), 2: bytearray(b&#x27;zachwilson.tech&#x27;), 3: bytearray(b&#x27;webprosbot&#x27;), 4: bytearray(b&#x27;iOS&#x27;), 6: bytearray(b&#x27;zachwilson.techd&#x27;), 7: bytearray(b&#x27;\\xe8\\xb0\\x1b\\x8ec\\x03\\x06\\x00&#x27;), 8: bytearray(b&#x27;\\x00\\xe0dqO\\x03\\x06\\x00&#x27;), 9: bytearray(b&#x27;999535123&#x27;), 10: bytearray(b&#x27;999884938&#x27;), 11: bytearray(b&#x27;vivo $2&#x27;)}</td>\n",
       "            <td>None</td>\n",
       "            <td>[4]</td>\n",
       "            <td>None</td>\n",
       "            <td>0</td>\n",
       "            <td>Row(browser_family=Row(column_size=48243, value_count=89391, null_value_count=0, nan_value_count=None, lower_bound=&#x27;%E3%82%A6%E3%82%&#x27;, upper_bound=&#x27;webprosbot&#x27;), device_id=Row(column_size=103859, value_count=89391, null_value_count=0, nan_value_count=None, lower_bound=&#x27;-100210680&#x27;, upper_bound=&#x27;999535123&#x27;), device_type=Row(column_size=30583, value_count=89391, null_value_count=0, nan_value_count=None, lower_bound=&#x27;17MB150WB&#x27;, upper_bound=&#x27;vivo $2&#x27;), event_date=Row(column_size=2274, value_count=89391, null_value_count=0, nan_value_count=None, lower_bound=datetime.datetime(2021, 1, 12, 0, 0), upper_bound=datetime.datetime(2023, 8, 20, 0, 0)), event_time=Row(column_size=390792, value_count=89391, null_value_count=0, nan_value_count=None, lower_bound=datetime.datetime(2021, 1, 12, 0, 1, 19, 764000), upper_bound=datetime.datetime(2023, 8, 20, 23, 59, 41, 89000)), host=Row(column_size=2674, value_count=89391, null_value_count=0, nan_value_count=None, lower_bound=&#x27;aashish.techcrea&#x27;, upper_bound=&#x27;zachwilson.techd&#x27;), os_family=Row(column_size=25723, value_count=89391, null_value_count=0, nan_value_count=None, lower_bound=&#x27;Android&#x27;, upper_bound=&#x27;iOS&#x27;), referrer=Row(column_size=68766, value_count=89391, null_value_count=46359, nan_value_count=None, lower_bound=&#x27;52.20.78.240&#x27;, upper_bound=&#x27;zachwilson.tech&#x27;), url=Row(column_size=111517, value_count=89391, null_value_count=0, nan_value_count=None, lower_bound=&#x27;/&#x27;, upper_bound=&#x27;/zzageqnf.php?Fp&#x27;), user_id=Row(column_size=315033, value_count=89391, null_value_count=1, nan_value_count=None, lower_bound=&#x27;-1000095488&#x27;, upper_bound=&#x27;999884938&#x27;))</td>\n",
       "        </tr>\n",
       "        <tr>\n",
       "            <td>0</td>\n",
       "            <td>s3://warehouse/bootcamp/events_sorted/data/00001-72-bb6b0eaa-2ea0-43ef-919a-09182b9e4425-0-00001.parquet</td>\n",
       "            <td>PARQUET</td>\n",
       "            <td>1</td>\n",
       "            <td>Row(event_date_year=None)</td>\n",
       "            <td>99232</td>\n",
       "            <td>1245154</td>\n",
       "            <td>{1: 145848, 2: 73756, 3: 48033, 4: 34566, 6: 3294, 7: 435861, 8: 2355, 9: 117090, 10: 344927, 11: 34955}</td>\n",
       "            <td>{1: 99232, 2: 99232, 3: 99232, 4: 99232, 6: 99232, 7: 99232, 8: 99232, 9: 99232, 10: 99232, 11: 99232}</td>\n",
       "            <td>{1: 0, 2: 49299, 3: 0, 4: 0, 6: 0, 7: 0, 8: 0, 9: 0, 10: 58, 11: 0}</td>\n",
       "            <td>{}</td>\n",
       "            <td>{1: bytearray(b&#x27;&quot;/?&quot;&quot;&lt;?=print(93&#x27;), 2: bytearray(b&#x27;&quot;https://www.goo&#x27;), 3: bytearray(b&#x27;) Bot&#x27;), 4: bytearray(b&#x27;Android&#x27;), 6: bytearray(b&#x27;abhishekanand.te&#x27;), 7: bytearray(b&#x27;(\\x83\\xb2EX\\xb8\\x05\\x00&#x27;), 8: bytearray(b&#x27;\\x00 \\xc9&lt;X\\xb8\\x05\\x00&#x27;), 9: bytearray(b&#x27;-100210680&#x27;), 10: bytearray(b&#x27;-1000370060&#x27;), 11: bytearray(b&#x27;13 Pro Max&#x27;)}</td>\n",
       "            <td>{1: bytearray(b&#x27;/zz.php&#x27;), 2: bytearray(b&#x27;zachwilson.tech&#x27;), 3: bytearray(b&#x27;webprosbot&#x27;), 4: bytearray(b&#x27;iOS&#x27;), 6: bytearray(b&#x27;zsavi524.techcrf&#x27;), 7: bytearray(b&#x27;\\x88\\xb8\\x07P;\\x03\\x06\\x00&#x27;), 8: bytearray(b&quot;\\x00 \\xb65\\&#x27;\\x03\\x06\\x00&quot;), 9: bytearray(b&#x27;999535123&#x27;), 10: bytearray(b&#x27;999956796&#x27;), 11: bytearray(b&#x27;vivo $2&#x27;)}</td>\n",
       "            <td>None</td>\n",
       "            <td>[4]</td>\n",
       "            <td>None</td>\n",
       "            <td>0</td>\n",
       "            <td>Row(browser_family=Row(column_size=48033, value_count=99232, null_value_count=0, nan_value_count=None, lower_bound=&#x27;) Bot&#x27;, upper_bound=&#x27;webprosbot&#x27;), device_id=Row(column_size=117090, value_count=99232, null_value_count=0, nan_value_count=None, lower_bound=&#x27;-100210680&#x27;, upper_bound=&#x27;999535123&#x27;), device_type=Row(column_size=34955, value_count=99232, null_value_count=0, nan_value_count=None, lower_bound=&#x27;13 Pro Max&#x27;, upper_bound=&#x27;vivo $2&#x27;), event_date=Row(column_size=2355, value_count=99232, null_value_count=0, nan_value_count=None, lower_bound=datetime.datetime(2021, 1, 8, 0, 0), upper_bound=datetime.datetime(2023, 8, 18, 0, 0)), event_time=Row(column_size=435861, value_count=99232, null_value_count=0, nan_value_count=None, lower_bound=datetime.datetime(2021, 1, 8, 0, 2, 29, 513000), upper_bound=datetime.datetime(2023, 8, 18, 23, 59, 0, 901000)), host=Row(column_size=3294, value_count=99232, null_value_count=0, nan_value_count=None, lower_bound=&#x27;abhishekanand.te&#x27;, upper_bound=&#x27;zsavi524.techcrf&#x27;), os_family=Row(column_size=34566, value_count=99232, null_value_count=0, nan_value_count=None, lower_bound=&#x27;Android&#x27;, upper_bound=&#x27;iOS&#x27;), referrer=Row(column_size=73756, value_count=99232, null_value_count=49299, nan_value_count=None, lower_bound=&#x27;&quot;https://www.goo&#x27;, upper_bound=&#x27;zachwilson.tech&#x27;), url=Row(column_size=145848, value_count=99232, null_value_count=0, nan_value_count=None, lower_bound=&#x27;&quot;/?&quot;&quot;&lt;?=print(93&#x27;, upper_bound=&#x27;/zz.php&#x27;), user_id=Row(column_size=344927, value_count=99232, null_value_count=58, nan_value_count=None, lower_bound=&#x27;-1000370060&#x27;, upper_bound=&#x27;999956796&#x27;))</td>\n",
       "        </tr>\n",
       "        <tr>\n",
       "            <td>0</td>\n",
       "            <td>s3://warehouse/bootcamp/events_sorted/data/00002-73-bb6b0eaa-2ea0-43ef-919a-09182b9e4425-0-00001.parquet</td>\n",
       "            <td>PARQUET</td>\n",
       "            <td>1</td>\n",
       "            <td>Row(event_date_year=None)</td>\n",
       "            <td>93956</td>\n",
       "            <td>1430918</td>\n",
       "            <td>{1: 351330, 2: 94518, 3: 45585, 4: 27674, 6: 3112, 7: 408578, 8: 2019, 9: 115393, 10: 343502, 11: 34791}</td>\n",
       "            <td>{1: 93956, 2: 93956, 3: 93956, 4: 93956, 6: 93956, 7: 93956, 8: 93956, 9: 93956, 10: 93956, 11: 93956}</td>\n",
       "            <td>{1: 0, 2: 48227, 3: 1, 4: 1, 6: 0, 7: 0, 8: 0, 9: 0, 10: 0, 11: 1}</td>\n",
       "            <td>{}</td>\n",
       "            <td>{1: bytearray(b&#x27;&quot;/?&quot;&quot;&lt;?=print(93&#x27;), 2: bytearray(b&#x27;&quot;https://www.goo&#x27;), 3: bytearray(b&#x27;) Bot&#x27;), 4: bytearray(b&#x27;Android&#x27;), 6: bytearray(b&#x27;ablumhardt.techc&#x27;), 7: bytearray(b&#x27;\\x18\\xe8_\\xb2\\xf3\\xb7\\x05\\x00&#x27;), 8: bytearray(b&#x27;\\x00@\\x94\\xa7\\xf3\\xb7\\x05\\x00&#x27;), 9: bytearray(b&#x27;-1000866068&#x27;), 10: bytearray(b&#x27;-1000675882&#x27;), 11: bytearray(b&#x27;ALP-AL00&#x27;)}</td>\n",
       "            <td>{1: bytearray(b&#x27;/zz/address.php@&#x27;), 2: bytearray(b&#x27;zachwilson.tech&#x27;), 3: bytearray(b&#x27;webprosbot&#x27;), 4: bytearray(b&#x27;webOS&#x27;), 6: bytearray(b&#x27;zzz.techcreator/&#x27;), 7: bytearray(b&#x27;HE\\xdbM\\xb3\\x03\\x06\\x00&#x27;), 8: bytearray(b&#x27;\\x00`\\xc2\\xe8\\x9f\\x03\\x06\\x00&#x27;), 9: bytearray(b&#x27;998961543&#x27;), 10: bytearray(b&#x27;999956796&#x27;), 11: bytearray(b&#x27;vivo $2&#x27;)}</td>\n",
       "            <td>None</td>\n",
       "            <td>[4]</td>\n",
       "            <td>None</td>\n",
       "            <td>0</td>\n",
       "            <td>Row(browser_family=Row(column_size=45585, value_count=93956, null_value_count=1, nan_value_count=None, lower_bound=&#x27;) Bot&#x27;, upper_bound=&#x27;webprosbot&#x27;), device_id=Row(column_size=115393, value_count=93956, null_value_count=0, nan_value_count=None, lower_bound=&#x27;-1000866068&#x27;, upper_bound=&#x27;998961543&#x27;), device_type=Row(column_size=34791, value_count=93956, null_value_count=1, nan_value_count=None, lower_bound=&#x27;ALP-AL00&#x27;, upper_bound=&#x27;vivo $2&#x27;), event_date=Row(column_size=2019, value_count=93956, null_value_count=0, nan_value_count=None, lower_bound=datetime.datetime(2021, 1, 3, 0, 0), upper_bound=datetime.datetime(2023, 8, 24, 0, 0)), event_time=Row(column_size=408578, value_count=93956, null_value_count=0, nan_value_count=None, lower_bound=datetime.datetime(2021, 1, 3, 0, 3, 1, 119000), upper_bound=datetime.datetime(2023, 8, 24, 23, 8, 20, 509000)), host=Row(column_size=3112, value_count=93956, null_value_count=0, nan_value_count=None, lower_bound=&#x27;ablumhardt.techc&#x27;, upper_bound=&#x27;zzz.techcreator/&#x27;), os_family=Row(column_size=27674, value_count=93956, null_value_count=1, nan_value_count=None, lower_bound=&#x27;Android&#x27;, upper_bound=&#x27;webOS&#x27;), referrer=Row(column_size=94518, value_count=93956, null_value_count=48227, nan_value_count=None, lower_bound=&#x27;&quot;https://www.goo&#x27;, upper_bound=&#x27;zachwilson.tech&#x27;), url=Row(column_size=351330, value_count=93956, null_value_count=0, nan_value_count=None, lower_bound=&#x27;&quot;/?&quot;&quot;&lt;?=print(93&#x27;, upper_bound=&#x27;/zz/address.php@&#x27;), user_id=Row(column_size=343502, value_count=93956, null_value_count=0, nan_value_count=None, lower_bound=&#x27;-1000675882&#x27;, upper_bound=&#x27;999956796&#x27;))</td>\n",
       "        </tr>\n",
       "        <tr>\n",
       "            <td>0</td>\n",
       "            <td>s3://warehouse/bootcamp/events_sorted/data/00003-74-bb6b0eaa-2ea0-43ef-919a-09182b9e4425-0-00001.parquet</td>\n",
       "            <td>PARQUET</td>\n",
       "            <td>1</td>\n",
       "            <td>Row(event_date_year=None)</td>\n",
       "            <td>122235</td>\n",
       "            <td>1661339</td>\n",
       "            <td>{1: 290056, 2: 98606, 3: 63591, 4: 41728, 6: 3551, 7: 512117, 8: 2154, 9: 148134, 10: 450920, 11: 45563}</td>\n",
       "            <td>{1: 122235, 2: 122235, 3: 122235, 4: 122235, 6: 122235, 7: 122235, 8: 122235, 9: 122235, 10: 122235, 11: 122235}</td>\n",
       "            <td>{1: 0, 2: 53009, 3: 0, 4: 0, 6: 0, 7: 0, 8: 0, 9: 0, 10: 8, 11: 0}</td>\n",
       "            <td>{}</td>\n",
       "            <td>{1: bytearray(b&#x27;/&#x27;), 2: bytearray(b&#x27;3.220.57.224&#x27;), 3: bytearray(b&#x27;) Bot&#x27;), 4: bytearray(b&#x27;Android&#x27;), 6: bytearray(b&#x27;accc.techcreator&#x27;), 7: bytearray(b&#x27;@n.\\xbd\\xdf\\xb7\\x05\\x00&#x27;), 8: bytearray(b&#x27;\\x00\\xe0\\xbc\\x89\\xdf\\xb7\\x05\\x00&#x27;), 9: bytearray(b&#x27;-1001669954&#x27;), 10: bytearray(b&#x27;-1000015881&#x27;), 11: bytearray(b&#x27;$2&#x27;)}</td>\n",
       "            <td>{1: bytearray(b&#x27;/zz.php&#x27;), 2: bytearray(b&#x27;zachwilson.tech&#x27;), 3: bytearray(b&#x27;webprosbot&#x27;), 4: bytearray(b&#x27;iOS&#x27;), 6: bytearray(b&#x27;zachwilson.techd&#x27;), 7: bytearray(b&#x27;\\xd8\\xaf\\x9a\\xe8\\x9f\\x03\\x06\\x00&#x27;), 8: bytearray(b&#x27;\\x00\\x00\\xeb\\xca\\x8b\\x03\\x06\\x00&#x27;), 9: bytearray(b&#x27;998766634&#x27;), 10: bytearray(b&#x27;999882344&#x27;), 11: bytearray(b&#x27;vivo $2&#x27;)}</td>\n",
       "            <td>None</td>\n",
       "            <td>[4]</td>\n",
       "            <td>None</td>\n",
       "            <td>0</td>\n",
       "            <td>Row(browser_family=Row(column_size=63591, value_count=122235, null_value_count=0, nan_value_count=None, lower_bound=&#x27;) Bot&#x27;, upper_bound=&#x27;webprosbot&#x27;), device_id=Row(column_size=148134, value_count=122235, null_value_count=0, nan_value_count=None, lower_bound=&#x27;-1001669954&#x27;, upper_bound=&#x27;998766634&#x27;), device_type=Row(column_size=45563, value_count=122235, null_value_count=0, nan_value_count=None, lower_bound=&#x27;$2&#x27;, upper_bound=&#x27;vivo $2&#x27;), event_date=Row(column_size=2154, value_count=122235, null_value_count=0, nan_value_count=None, lower_bound=datetime.datetime(2021, 1, 2, 0, 0), upper_bound=datetime.datetime(2023, 8, 23, 0, 0)), event_time=Row(column_size=512117, value_count=122235, null_value_count=0, nan_value_count=None, lower_bound=datetime.datetime(2021, 1, 2, 0, 14, 23, 80000), upper_bound=datetime.datetime(2023, 8, 23, 23, 59, 57, 399000)), host=Row(column_size=3551, value_count=122235, null_value_count=0, nan_value_count=None, lower_bound=&#x27;accc.techcreator&#x27;, upper_bound=&#x27;zachwilson.techd&#x27;), os_family=Row(column_size=41728, value_count=122235, null_value_count=0, nan_value_count=None, lower_bound=&#x27;Android&#x27;, upper_bound=&#x27;iOS&#x27;), referrer=Row(column_size=98606, value_count=122235, null_value_count=53009, nan_value_count=None, lower_bound=&#x27;3.220.57.224&#x27;, upper_bound=&#x27;zachwilson.tech&#x27;), url=Row(column_size=290056, value_count=122235, null_value_count=0, nan_value_count=None, lower_bound=&#x27;/&#x27;, upper_bound=&#x27;/zz.php&#x27;), user_id=Row(column_size=450920, value_count=122235, null_value_count=8, nan_value_count=None, lower_bound=&#x27;-1000015881&#x27;, upper_bound=&#x27;999882344&#x27;))</td>\n",
       "        </tr>\n",
       "    </tbody>\n",
       "</table>"
      ],
      "text/plain": [
       "+---------+----------------------------------------------------------------------------------------------------------+-------------+---------+---------------------------+--------------+--------------------+----------------------------------------------------------------------------------------------------------+------------------------------------------------------------------------------------------------------------------+---------------------------------------------------------------------+------------------+------------------------------------------------------------------------------------------------------------------------------------------------------------------------------------------------------------------------------------------------------------------------------------------------------------------------------------------------------+----------------------------------------------------------------------------------------------------------------------------------------------------------------------------------------------------------------------------------------------------------------------------------------------------------------------------------------------+--------------+---------------+--------------+---------------+---------------------------------------------------------------------------------------------------------------------------------------------------------------------------------------------------------------------------------------------------------------------------------------------------------------------------------------------------------------------------------------------------------------------------------------------------------------------------------------------------------------------------------------------------------------------------------------------------------------------------------------------------------------------------------------------------------------------------------------------------------------------------------------------------------------------------------------------------------------------------------------------------------------------------------------------------------------------------------------------------------------------------------------------------------------------------------------------------------------------------------------------------------------------------------------------------------------------------------------------------------------------------------------------------------------------------------------------------------------------------------------------------------------------------------------------------------------------------------------------------------------------------------------------------------------------------------------------------------------------------------------------------------------------------+\n",
       "| content |                                                                                                file_path | file_format | spec_id |                 partition | record_count | file_size_in_bytes |                                                                                             column_sizes |                                                                                                     value_counts |                                                   null_value_counts | nan_value_counts |                                                                                                                                                                                                                                                                                                                                         lower_bounds |                                                                                                                                                                                                                                                                                                                                 upper_bounds | key_metadata | split_offsets | equality_ids | sort_order_id |                                                                                                                                                                                                                                                                                                                                                                                                                                                                                                                                                                                                                                                                                                                                                                                                                                                                                                                                                                                                                                                                                                                                                                                                                                                                                                                                                                                                                                                                                                                                                                                                                                                          readable_metrics |\n",
       "+---------+----------------------------------------------------------------------------------------------------------+-------------+---------+---------------------------+--------------+--------------------+----------------------------------------------------------------------------------------------------------+------------------------------------------------------------------------------------------------------------------+---------------------------------------------------------------------+------------------+------------------------------------------------------------------------------------------------------------------------------------------------------------------------------------------------------------------------------------------------------------------------------------------------------------------------------------------------------+----------------------------------------------------------------------------------------------------------------------------------------------------------------------------------------------------------------------------------------------------------------------------------------------------------------------------------------------+--------------+---------------+--------------+---------------+---------------------------------------------------------------------------------------------------------------------------------------------------------------------------------------------------------------------------------------------------------------------------------------------------------------------------------------------------------------------------------------------------------------------------------------------------------------------------------------------------------------------------------------------------------------------------------------------------------------------------------------------------------------------------------------------------------------------------------------------------------------------------------------------------------------------------------------------------------------------------------------------------------------------------------------------------------------------------------------------------------------------------------------------------------------------------------------------------------------------------------------------------------------------------------------------------------------------------------------------------------------------------------------------------------------------------------------------------------------------------------------------------------------------------------------------------------------------------------------------------------------------------------------------------------------------------------------------------------------------------------------------------------------------------+\n",
       "|       0 | s3://warehouse/bootcamp/events_sorted/data/00000-71-bb6b0eaa-2ea0-43ef-919a-09182b9e4425-0-00001.parquet |     PARQUET |       1 | Row(event_date_year=None) |        89391 |            1103888 | {1: 111517, 2: 68766, 3: 48243, 4: 25723, 6: 2674, 7: 390792, 8: 2274, 9: 103859, 10: 315033, 11: 30583} |           {1: 89391, 2: 89391, 3: 89391, 4: 89391, 6: 89391, 7: 89391, 8: 89391, 9: 89391, 10: 89391, 11: 89391} |  {1: 0, 2: 46359, 3: 0, 4: 0, 6: 0, 7: 0, 8: 0, 9: 0, 10: 1, 11: 0} |               {} |         {1: bytearray(b'/'), 2: bytearray(b'52.20.78.240'), 3: bytearray(b'%E3%82%A6%E3%82%'), 4: bytearray(b'Android'), 6: bytearray(b'aashish.techcrea'), 7: bytearray(b' \\xba\\xe7\\xb8\\xa8\\xb8\\x05\\x00'), 8: bytearray(b'\\x00\\xa0&\\xb4\\xa8\\xb8\\x05\\x00'), 9: bytearray(b'-100210680'), 10: bytearray(b'-1000095488'), 11: bytearray(b'17MB150WB')} |    {1: bytearray(b'/zzageqnf.php?Fp'), 2: bytearray(b'zachwilson.tech'), 3: bytearray(b'webprosbot'), 4: bytearray(b'iOS'), 6: bytearray(b'zachwilson.techd'), 7: bytearray(b'\\xe8\\xb0\\x1b\\x8ec\\x03\\x06\\x00'), 8: bytearray(b'\\x00\\xe0dqO\\x03\\x06\\x00'), 9: bytearray(b'999535123'), 10: bytearray(b'999884938'), 11: bytearray(b'vivo $2')} |         None |           [4] |         None |             0 |        Row(browser_family=Row(column_size=48243, value_count=89391, null_value_count=0, nan_value_count=None, lower_bound='%E3%82%A6%E3%82%', upper_bound='webprosbot'), device_id=Row(column_size=103859, value_count=89391, null_value_count=0, nan_value_count=None, lower_bound='-100210680', upper_bound='999535123'), device_type=Row(column_size=30583, value_count=89391, null_value_count=0, nan_value_count=None, lower_bound='17MB150WB', upper_bound='vivo $2'), event_date=Row(column_size=2274, value_count=89391, null_value_count=0, nan_value_count=None, lower_bound=datetime.datetime(2021, 1, 12, 0, 0), upper_bound=datetime.datetime(2023, 8, 20, 0, 0)), event_time=Row(column_size=390792, value_count=89391, null_value_count=0, nan_value_count=None, lower_bound=datetime.datetime(2021, 1, 12, 0, 1, 19, 764000), upper_bound=datetime.datetime(2023, 8, 20, 23, 59, 41, 89000)), host=Row(column_size=2674, value_count=89391, null_value_count=0, nan_value_count=None, lower_bound='aashish.techcrea', upper_bound='zachwilson.techd'), os_family=Row(column_size=25723, value_count=89391, null_value_count=0, nan_value_count=None, lower_bound='Android', upper_bound='iOS'), referrer=Row(column_size=68766, value_count=89391, null_value_count=46359, nan_value_count=None, lower_bound='52.20.78.240', upper_bound='zachwilson.tech'), url=Row(column_size=111517, value_count=89391, null_value_count=0, nan_value_count=None, lower_bound='/', upper_bound='/zzageqnf.php?Fp'), user_id=Row(column_size=315033, value_count=89391, null_value_count=1, nan_value_count=None, lower_bound='-1000095488', upper_bound='999884938')) |\n",
       "|       0 | s3://warehouse/bootcamp/events_sorted/data/00001-72-bb6b0eaa-2ea0-43ef-919a-09182b9e4425-0-00001.parquet |     PARQUET |       1 | Row(event_date_year=None) |        99232 |            1245154 | {1: 145848, 2: 73756, 3: 48033, 4: 34566, 6: 3294, 7: 435861, 8: 2355, 9: 117090, 10: 344927, 11: 34955} |           {1: 99232, 2: 99232, 3: 99232, 4: 99232, 6: 99232, 7: 99232, 8: 99232, 9: 99232, 10: 99232, 11: 99232} | {1: 0, 2: 49299, 3: 0, 4: 0, 6: 0, 7: 0, 8: 0, 9: 0, 10: 58, 11: 0} |               {} |            {1: bytearray(b'\"/?\"\"<?=print(93'), 2: bytearray(b'\"https://www.goo'), 3: bytearray(b') Bot'), 4: bytearray(b'Android'), 6: bytearray(b'abhishekanand.te'), 7: bytearray(b'(\\x83\\xb2EX\\xb8\\x05\\x00'), 8: bytearray(b'\\x00 \\xc9<X\\xb8\\x05\\x00'), 9: bytearray(b'-100210680'), 10: bytearray(b'-1000370060'), 11: bytearray(b'13 Pro Max')} |               {1: bytearray(b'/zz.php'), 2: bytearray(b'zachwilson.tech'), 3: bytearray(b'webprosbot'), 4: bytearray(b'iOS'), 6: bytearray(b'zsavi524.techcrf'), 7: bytearray(b'\\x88\\xb8\\x07P;\\x03\\x06\\x00'), 8: bytearray(b\"\\x00 \\xb65\\'\\x03\\x06\\x00\"), 9: bytearray(b'999535123'), 10: bytearray(b'999956796'), 11: bytearray(b'vivo $2')} |         None |           [4] |         None |             0 |         Row(browser_family=Row(column_size=48033, value_count=99232, null_value_count=0, nan_value_count=None, lower_bound=') Bot', upper_bound='webprosbot'), device_id=Row(column_size=117090, value_count=99232, null_value_count=0, nan_value_count=None, lower_bound='-100210680', upper_bound='999535123'), device_type=Row(column_size=34955, value_count=99232, null_value_count=0, nan_value_count=None, lower_bound='13 Pro Max', upper_bound='vivo $2'), event_date=Row(column_size=2355, value_count=99232, null_value_count=0, nan_value_count=None, lower_bound=datetime.datetime(2021, 1, 8, 0, 0), upper_bound=datetime.datetime(2023, 8, 18, 0, 0)), event_time=Row(column_size=435861, value_count=99232, null_value_count=0, nan_value_count=None, lower_bound=datetime.datetime(2021, 1, 8, 0, 2, 29, 513000), upper_bound=datetime.datetime(2023, 8, 18, 23, 59, 0, 901000)), host=Row(column_size=3294, value_count=99232, null_value_count=0, nan_value_count=None, lower_bound='abhishekanand.te', upper_bound='zsavi524.techcrf'), os_family=Row(column_size=34566, value_count=99232, null_value_count=0, nan_value_count=None, lower_bound='Android', upper_bound='iOS'), referrer=Row(column_size=73756, value_count=99232, null_value_count=49299, nan_value_count=None, lower_bound='\"https://www.goo', upper_bound='zachwilson.tech'), url=Row(column_size=145848, value_count=99232, null_value_count=0, nan_value_count=None, lower_bound='\"/?\"\"<?=print(93', upper_bound='/zz.php'), user_id=Row(column_size=344927, value_count=99232, null_value_count=58, nan_value_count=None, lower_bound='-1000370060', upper_bound='999956796')) |\n",
       "|       0 | s3://warehouse/bootcamp/events_sorted/data/00002-73-bb6b0eaa-2ea0-43ef-919a-09182b9e4425-0-00001.parquet |     PARQUET |       1 | Row(event_date_year=None) |        93956 |            1430918 | {1: 351330, 2: 94518, 3: 45585, 4: 27674, 6: 3112, 7: 408578, 8: 2019, 9: 115393, 10: 343502, 11: 34791} |           {1: 93956, 2: 93956, 3: 93956, 4: 93956, 6: 93956, 7: 93956, 8: 93956, 9: 93956, 10: 93956, 11: 93956} |  {1: 0, 2: 48227, 3: 1, 4: 1, 6: 0, 7: 0, 8: 0, 9: 0, 10: 0, 11: 1} |               {} | {1: bytearray(b'\"/?\"\"<?=print(93'), 2: bytearray(b'\"https://www.goo'), 3: bytearray(b') Bot'), 4: bytearray(b'Android'), 6: bytearray(b'ablumhardt.techc'), 7: bytearray(b'\\x18\\xe8_\\xb2\\xf3\\xb7\\x05\\x00'), 8: bytearray(b'\\x00@\\x94\\xa7\\xf3\\xb7\\x05\\x00'), 9: bytearray(b'-1000866068'), 10: bytearray(b'-1000675882'), 11: bytearray(b'ALP-AL00')} |  {1: bytearray(b'/zz/address.php@'), 2: bytearray(b'zachwilson.tech'), 3: bytearray(b'webprosbot'), 4: bytearray(b'webOS'), 6: bytearray(b'zzz.techcreator/'), 7: bytearray(b'HE\\xdbM\\xb3\\x03\\x06\\x00'), 8: bytearray(b'\\x00`\\xc2\\xe8\\x9f\\x03\\x06\\x00'), 9: bytearray(b'998961543'), 10: bytearray(b'999956796'), 11: bytearray(b'vivo $2')} |         None |           [4] |         None |             0 | Row(browser_family=Row(column_size=45585, value_count=93956, null_value_count=1, nan_value_count=None, lower_bound=') Bot', upper_bound='webprosbot'), device_id=Row(column_size=115393, value_count=93956, null_value_count=0, nan_value_count=None, lower_bound='-1000866068', upper_bound='998961543'), device_type=Row(column_size=34791, value_count=93956, null_value_count=1, nan_value_count=None, lower_bound='ALP-AL00', upper_bound='vivo $2'), event_date=Row(column_size=2019, value_count=93956, null_value_count=0, nan_value_count=None, lower_bound=datetime.datetime(2021, 1, 3, 0, 0), upper_bound=datetime.datetime(2023, 8, 24, 0, 0)), event_time=Row(column_size=408578, value_count=93956, null_value_count=0, nan_value_count=None, lower_bound=datetime.datetime(2021, 1, 3, 0, 3, 1, 119000), upper_bound=datetime.datetime(2023, 8, 24, 23, 8, 20, 509000)), host=Row(column_size=3112, value_count=93956, null_value_count=0, nan_value_count=None, lower_bound='ablumhardt.techc', upper_bound='zzz.techcreator/'), os_family=Row(column_size=27674, value_count=93956, null_value_count=1, nan_value_count=None, lower_bound='Android', upper_bound='webOS'), referrer=Row(column_size=94518, value_count=93956, null_value_count=48227, nan_value_count=None, lower_bound='\"https://www.goo', upper_bound='zachwilson.tech'), url=Row(column_size=351330, value_count=93956, null_value_count=0, nan_value_count=None, lower_bound='\"/?\"\"<?=print(93', upper_bound='/zz/address.php@'), user_id=Row(column_size=343502, value_count=93956, null_value_count=0, nan_value_count=None, lower_bound='-1000675882', upper_bound='999956796')) |\n",
       "|       0 | s3://warehouse/bootcamp/events_sorted/data/00003-74-bb6b0eaa-2ea0-43ef-919a-09182b9e4425-0-00001.parquet |     PARQUET |       1 | Row(event_date_year=None) |       122235 |            1661339 | {1: 290056, 2: 98606, 3: 63591, 4: 41728, 6: 3551, 7: 512117, 8: 2154, 9: 148134, 10: 450920, 11: 45563} | {1: 122235, 2: 122235, 3: 122235, 4: 122235, 6: 122235, 7: 122235, 8: 122235, 9: 122235, 10: 122235, 11: 122235} |  {1: 0, 2: 53009, 3: 0, 4: 0, 6: 0, 7: 0, 8: 0, 9: 0, 10: 8, 11: 0} |               {} |                             {1: bytearray(b'/'), 2: bytearray(b'3.220.57.224'), 3: bytearray(b') Bot'), 4: bytearray(b'Android'), 6: bytearray(b'accc.techcreator'), 7: bytearray(b'@n.\\xbd\\xdf\\xb7\\x05\\x00'), 8: bytearray(b'\\x00\\xe0\\xbc\\x89\\xdf\\xb7\\x05\\x00'), 9: bytearray(b'-1001669954'), 10: bytearray(b'-1000015881'), 11: bytearray(b'$2')} | {1: bytearray(b'/zz.php'), 2: bytearray(b'zachwilson.tech'), 3: bytearray(b'webprosbot'), 4: bytearray(b'iOS'), 6: bytearray(b'zachwilson.techd'), 7: bytearray(b'\\xd8\\xaf\\x9a\\xe8\\x9f\\x03\\x06\\x00'), 8: bytearray(b'\\x00\\x00\\xeb\\xca\\x8b\\x03\\x06\\x00'), 9: bytearray(b'998766634'), 10: bytearray(b'999882344'), 11: bytearray(b'vivo $2')} |         None |           [4] |         None |             0 |                         Row(browser_family=Row(column_size=63591, value_count=122235, null_value_count=0, nan_value_count=None, lower_bound=') Bot', upper_bound='webprosbot'), device_id=Row(column_size=148134, value_count=122235, null_value_count=0, nan_value_count=None, lower_bound='-1001669954', upper_bound='998766634'), device_type=Row(column_size=45563, value_count=122235, null_value_count=0, nan_value_count=None, lower_bound='$2', upper_bound='vivo $2'), event_date=Row(column_size=2154, value_count=122235, null_value_count=0, nan_value_count=None, lower_bound=datetime.datetime(2021, 1, 2, 0, 0), upper_bound=datetime.datetime(2023, 8, 23, 0, 0)), event_time=Row(column_size=512117, value_count=122235, null_value_count=0, nan_value_count=None, lower_bound=datetime.datetime(2021, 1, 2, 0, 14, 23, 80000), upper_bound=datetime.datetime(2023, 8, 23, 23, 59, 57, 399000)), host=Row(column_size=3551, value_count=122235, null_value_count=0, nan_value_count=None, lower_bound='accc.techcreator', upper_bound='zachwilson.techd'), os_family=Row(column_size=41728, value_count=122235, null_value_count=0, nan_value_count=None, lower_bound='Android', upper_bound='iOS'), referrer=Row(column_size=98606, value_count=122235, null_value_count=53009, nan_value_count=None, lower_bound='3.220.57.224', upper_bound='zachwilson.tech'), url=Row(column_size=290056, value_count=122235, null_value_count=0, nan_value_count=None, lower_bound='/', upper_bound='/zz.php'), user_id=Row(column_size=450920, value_count=122235, null_value_count=8, nan_value_count=None, lower_bound='-1000015881', upper_bound='999882344')) |\n",
       "+---------+----------------------------------------------------------------------------------------------------------+-------------+---------+---------------------------+--------------+--------------------+----------------------------------------------------------------------------------------------------------+------------------------------------------------------------------------------------------------------------------+---------------------------------------------------------------------+------------------+------------------------------------------------------------------------------------------------------------------------------------------------------------------------------------------------------------------------------------------------------------------------------------------------------------------------------------------------------+----------------------------------------------------------------------------------------------------------------------------------------------------------------------------------------------------------------------------------------------------------------------------------------------------------------------------------------------+--------------+---------------+--------------+---------------+---------------------------------------------------------------------------------------------------------------------------------------------------------------------------------------------------------------------------------------------------------------------------------------------------------------------------------------------------------------------------------------------------------------------------------------------------------------------------------------------------------------------------------------------------------------------------------------------------------------------------------------------------------------------------------------------------------------------------------------------------------------------------------------------------------------------------------------------------------------------------------------------------------------------------------------------------------------------------------------------------------------------------------------------------------------------------------------------------------------------------------------------------------------------------------------------------------------------------------------------------------------------------------------------------------------------------------------------------------------------------------------------------------------------------------------------------------------------------------------------------------------------------------------------------------------------------------------------------------------------------------------------------------------------------+"
      ]
     },
     "execution_count": 20,
     "metadata": {},
     "output_type": "execute_result"
    }
   ],
   "source": [
    "%%sql\n",
    "select * from demo.bootcamp.events_sorted.files"
   ]
  },
  {
   "cell_type": "code",
   "execution_count": null,
   "id": "591ba0b7-2e6f-420a-960d-95e5734b0166",
   "metadata": {},
   "outputs": [],
   "source": []
  }
 ],
 "metadata": {
  "kernelspec": {
   "display_name": "Python 3 (ipykernel)",
   "language": "python",
   "name": "python3"
  },
  "language_info": {
   "codemirror_mode": {
    "name": "ipython",
    "version": 3
   },
   "file_extension": ".py",
   "mimetype": "text/x-python",
   "name": "python",
   "nbconvert_exporter": "python",
   "pygments_lexer": "ipython3",
   "version": "3.9.18"
  }
 },
 "nbformat": 4,
 "nbformat_minor": 5
}
